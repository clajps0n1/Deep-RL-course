{
  "cells": [
    {
      "cell_type": "markdown",
      "metadata": {
        "id": "view-in-github",
        "colab_type": "text"
      },
      "source": [
        "<a href=\"https://colab.research.google.com/github/clajps0n1/Deep-RL-course/blob/main/notebooks/unit1/practice1.ipynb\" target=\"_parent\"><img src=\"https://colab.research.google.com/assets/colab-badge.svg\" alt=\"Open In Colab\"/></a>"
      ]
    },
    {
      "cell_type": "markdown",
      "source": [
        "Install Baseline, swig, gymnasium and huggingface"
      ],
      "metadata": {
        "id": "8TWIReEmP67e"
      }
    },
    {
      "cell_type": "code",
      "source": [
        "!pip install stable-baselines3[extra]"
      ],
      "metadata": {
        "collapsed": true,
        "id": "Q6MyQycAQx5H"
      },
      "execution_count": null,
      "outputs": []
    },
    {
      "cell_type": "code",
      "source": [
        "!pip install swig"
      ],
      "metadata": {
        "collapsed": true,
        "id": "xOCdZsTsStSz"
      },
      "execution_count": null,
      "outputs": []
    },
    {
      "cell_type": "code",
      "source": [
        "!pip install gymnasium[box2d]"
      ],
      "metadata": {
        "collapsed": true,
        "id": "4nNAeQyES899"
      },
      "execution_count": null,
      "outputs": []
    },
    {
      "cell_type": "code",
      "source": [
        "!pip install huggingface_sb3"
      ],
      "metadata": {
        "collapsed": true,
        "id": "0-VwuAmzS9gN"
      },
      "execution_count": null,
      "outputs": []
    },
    {
      "cell_type": "markdown",
      "source": [
        "Dependencies for generating the video"
      ],
      "metadata": {
        "id": "taA45biCTjq2"
      }
    },
    {
      "cell_type": "code",
      "source": [
        "!sudo apt-get update\n",
        "!apt install python3-opengl\n",
        "!apt install ffmpeg\n",
        "!apt install xvfb\n",
        "!pip3 install pyvirtualdisplay"
      ],
      "metadata": {
        "collapsed": true,
        "id": "sZ3LiDdkTng4"
      },
      "execution_count": null,
      "outputs": []
    },
    {
      "cell_type": "markdown",
      "source": [
        "Import packages"
      ],
      "metadata": {
        "id": "hmYhvr7fUtMG"
      }
    },
    {
      "cell_type": "code",
      "source": [
        "# Virtual display\n",
        "from pyvirtualdisplay import Display\n",
        "\n",
        "virtual_display = Display(visible=0, size=(1400, 900))\n",
        "virtual_display.start()"
      ],
      "metadata": {
        "collapsed": true,
        "id": "v262Z7MBUXj_"
      },
      "execution_count": null,
      "outputs": []
    },
    {
      "cell_type": "code",
      "source": [
        "import gymnasium\n",
        "\n",
        "from huggingface_sb3 import load_from_hub, package_to_hub\n",
        "from huggingface_hub import notebook_login # To log to our Hugging Face account to be able to upload models to the Hub.\n",
        "\n",
        "from stable_baselines3 import PPO\n",
        "from stable_baselines3.common.env_util import make_vec_env\n",
        "from stable_baselines3.common.evaluation import evaluate_policy\n",
        "from stable_baselines3.common.monitor import Monitor"
      ],
      "metadata": {
        "id": "m9PilXenUxEk"
      },
      "execution_count": null,
      "outputs": []
    },
    {
      "cell_type": "markdown",
      "source": [
        "Create the environment"
      ],
      "metadata": {
        "id": "h_JYQPN9gbEi"
      }
    },
    {
      "cell_type": "code",
      "source": [
        "env = gymnasium.make(\"CartPole-v1\")\n",
        "env.reset()\n",
        "\n",
        "print(\"_____OBSERVATION SPACE_____ \\n\")\n",
        "print(\"Observation Space Shape\", env.observation_space.shape)\n",
        "print(\"Sample observation\", env.observation_space.sample()) # Get a random observation\n",
        "\n",
        "\n",
        "print(\"\\n _____ACTION SPACE_____ \\n\")\n",
        "print(\"Action Space Shape\", env.action_space.n)\n",
        "print(\"Action Space Sample\", env.action_space.sample()) # Take a random action"
      ],
      "metadata": {
        "collapsed": true,
        "id": "6pUCupBggdPA"
      },
      "execution_count": null,
      "outputs": []
    },
    {
      "cell_type": "markdown",
      "source": [
        "Vectorized envirnment"
      ],
      "metadata": {
        "id": "jMwkAJ94jkQo"
      }
    },
    {
      "cell_type": "code",
      "source": [
        "env  = make_vec_env('CartPole-v1', n_envs=8)\n",
        "env.reset()"
      ],
      "metadata": {
        "collapsed": true,
        "id": "4OYS8XUOjsak"
      },
      "execution_count": null,
      "outputs": []
    },
    {
      "cell_type": "markdown",
      "source": [
        "Instantiate the agent"
      ],
      "metadata": {
        "id": "l4uYfiKClBxa"
      }
    },
    {
      "cell_type": "code",
      "source": [
        "model = PPO(\n",
        "    policy = 'MlpPolicy',\n",
        "    env = env,\n",
        "    n_steps = 1024,\n",
        "    batch_size = 64,\n",
        "    n_epochs = 4,\n",
        "    gamma = 0.999,\n",
        "    gae_lambda = 0.98,\n",
        "    ent_coef = 0.01,\n",
        "    verbose=1\n",
        ")"
      ],
      "metadata": {
        "collapsed": true,
        "id": "iYo6h-CHlDf6"
      },
      "execution_count": null,
      "outputs": []
    },
    {
      "cell_type": "markdown",
      "source": [
        "Train the agent"
      ],
      "metadata": {
        "id": "5SpayxMBlW4q"
      }
    },
    {
      "cell_type": "code",
      "source": [
        "model.learn(total_timesteps=200000)"
      ],
      "metadata": {
        "collapsed": true,
        "id": "FXQgtEyTlf0w"
      },
      "execution_count": null,
      "outputs": []
    },
    {
      "cell_type": "markdown",
      "source": [
        "Save model"
      ],
      "metadata": {
        "id": "ahE3dDFnmQOo"
      }
    },
    {
      "cell_type": "code",
      "source": [
        "model_name = \"ppo-CartPole-v1\"\n",
        "model.save(model_name)"
      ],
      "metadata": {
        "id": "FP9uKDjemR-G"
      },
      "execution_count": null,
      "outputs": []
    },
    {
      "cell_type": "markdown",
      "source": [
        "Evaluate the agent"
      ],
      "metadata": {
        "id": "bSegjk4lmbfi"
      }
    },
    {
      "cell_type": "code",
      "source": [
        "eval_env = Monitor(gymnasium.make(\"CartPole-v1\", render_mode='rgb_array'))\n",
        "mean_reward, std_reward = evaluate_policy(model, eval_env, n_eval_episodes=10, deterministic=True)\n",
        "print(f\"mean_reward={mean_reward:.2f} +/- {std_reward}\")"
      ],
      "metadata": {
        "id": "EqEiZ8fLm802"
      },
      "execution_count": null,
      "outputs": []
    },
    {
      "cell_type": "markdown",
      "source": [
        "Publish the model on the hub"
      ],
      "metadata": {
        "id": "BKgFASz5nNOZ"
      }
    },
    {
      "cell_type": "code",
      "source": [
        "notebook_login()"
      ],
      "metadata": {
        "id": "lP0VTx1onhTQ"
      },
      "execution_count": null,
      "outputs": []
    },
    {
      "cell_type": "code",
      "source": [
        "from stable_baselines3.common.vec_env import VecVideoRecorder\n",
        "\n",
        "def _vec_video_recorder__getattr(self, name):\n",
        "    # Fix a bug in push_to_hub.py where it looks for video_recorder.path\n",
        "    if \"video_recorder\" == name:\n",
        "        return self\n",
        "    if \"path\" == name:\n",
        "        return self.video_path\n",
        "    if None is _orig_vec_video_recorder_getattr:\n",
        "        raise AttributeError(name)\n",
        "    return _orig_vec_video_recorder_getattr(self, name)\n",
        "\n",
        "\n",
        "_orig_vec_video_recorder_getattr = getattr(VecVideoRecorder, \"__getattr__\", None)\n",
        "setattr(VecVideoRecorder, \"__getattr__\", _vec_video_recorder__getattr)"
      ],
      "metadata": {
        "id": "UrpikgqarvKE"
      },
      "execution_count": null,
      "outputs": []
    },
    {
      "cell_type": "code",
      "source": [
        "from stable_baselines3.common.vec_env import DummyVecEnv\n",
        "from stable_baselines3.common.env_util import make_vec_env\n",
        "from huggingface_sb3 import package_to_hub\n",
        "\n",
        "# Define the name of the environment\n",
        "env_id = \"CartPole-v1\"\n",
        "\n",
        "# TODO: Define the model architecture we used\n",
        "model_architecture = \"PPO\"\n",
        "\n",
        "## Define a repo_id\n",
        "repo_id = \"clajps0n/ppo-CartPole-v1\"\n",
        "\n",
        "## Define the commit message\n",
        "commit_message = \"Upload PPO CartPole-v1 trained agent\"\n",
        "\n",
        "# Create the evaluation env and set the render_mode=\"rgb_array\"\n",
        "eval_env = DummyVecEnv([lambda: Monitor(gymnasium.make(env_id, render_mode=\"rgb_array\"))])\n",
        "\n",
        "package_to_hub(model=model, # Our trained model\n",
        "               model_name=model_name, # The name of our trained model\n",
        "               model_architecture=model_architecture, # The model architecture we used\n",
        "               env_id=env_id, # Name of the environment\n",
        "               eval_env=eval_env, # Evaluation Environment\n",
        "               repo_id=repo_id,\n",
        "               commit_message=commit_message)"
      ],
      "metadata": {
        "id": "BFe4of4bn-W6"
      },
      "execution_count": null,
      "outputs": []
    }
  ],
  "metadata": {
    "accelerator": "GPU",
    "colab": {
      "collapsed_sections": [
        "QAN7B0_HCVZC",
        "BqPKw3jt_pG5"
      ],
      "private_outputs": true,
      "provenance": [],
      "gpuType": "T4",
      "include_colab_link": true
    },
    "kernelspec": {
      "display_name": "Python 3",
      "name": "python3"
    },
    "language_info": {
      "name": "python",
      "version": "3.9.7"
    },
    "vscode": {
      "interpreter": {
        "hash": "ed7f8024e43d3b8f5ca3c5e1a8151ab4d136b3ecee1e3fd59e0766ccc55e1b10"
      }
    }
  },
  "nbformat": 4,
  "nbformat_minor": 0
}